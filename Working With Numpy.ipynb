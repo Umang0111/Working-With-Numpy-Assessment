{
 "cells": [
  {
   "cell_type": "code",
   "execution_count": 1,
   "id": "ce416b9c",
   "metadata": {},
   "outputs": [],
   "source": [
    "import numpy as np"
   ]
  },
  {
   "cell_type": "code",
   "execution_count": 3,
   "id": "c7a29e5c",
   "metadata": {},
   "outputs": [],
   "source": [
    "import pandas as pd"
   ]
  },
  {
   "cell_type": "markdown",
   "id": "a412d9ca",
   "metadata": {},
   "source": [
    "# Questions on NumPy Array "
   ]
  },
  {
   "cell_type": "code",
   "execution_count": 3,
   "id": "b140978c",
   "metadata": {},
   "outputs": [
    {
     "name": "stdout",
     "output_type": "stream",
     "text": [
      "[]\n",
      "[[1 1 1]\n",
      " [1 1 1]]\n"
     ]
    }
   ],
   "source": [
    "# 1.How to create an Empty and Full numpy array?\n",
    "# Empty Array\n",
    "list1 = []\n",
    "arr1 = np.array(list1)\n",
    "print(arr1)\n",
    "\n",
    "# Full Array\n",
    "arr2 = np.full([2,3],1)\n",
    "print(arr2)\n",
    "\n",
    "# Explanation :-\n",
    "# An empty array is an array that has no value or is null.\n",
    "# We can use the empty array later to append the values or modify them."
   ]
  },
  {
   "cell_type": "code",
   "execution_count": 4,
   "id": "9dd2fd59",
   "metadata": {},
   "outputs": [
    {
     "name": "stdout",
     "output_type": "stream",
     "text": [
      "[[0. 0. 0.]\n",
      " [0. 0. 0.]]\n"
     ]
    }
   ],
   "source": [
    "# 2.Create numpy array filled with all Zeros.\n",
    "arr3 = np.zeros([2,3])\n",
    "print(arr3)\n",
    "\n",
    "# Explanation:-\n",
    "# The numpy.zeros() function returns a new array of given shape and type, with zeros."
   ]
  },
  {
   "cell_type": "code",
   "execution_count": 5,
   "id": "104caa0d",
   "metadata": {},
   "outputs": [
    {
     "name": "stdout",
     "output_type": "stream",
     "text": [
      "[[1. 1. 1.]\n",
      " [1. 1. 1.]\n",
      " [1. 1. 1.]]\n"
     ]
    }
   ],
   "source": [
    "# 3.Create numpy array filled with all Ones.\n",
    "arr4 = np.ones([3,3])\n",
    "print(arr4)\n",
    "\n",
    "# Explanation:-\n",
    "# ones() function returns a new array of given shape and data type, where the element's value is set to 1.\n",
    "# This function is very similar to numpy zeros() function."
   ]
  },
  {
   "cell_type": "code",
   "execution_count": 6,
   "id": "b3b65eef",
   "metadata": {},
   "outputs": [
    {
     "name": "stdout",
     "output_type": "stream",
     "text": [
      "[[1 2 3]\n",
      " [4 5 6]\n",
      " [7 8 9]]\n",
      "True\n",
      "False\n"
     ]
    }
   ],
   "source": [
    "# 4.Check whether a numpy Array contains specified rows.\n",
    "l1 = [[1,2,3],\n",
    "     [4,5,6],\n",
    "     [7,8,9]]\n",
    "arr5 = np.array(l1)\n",
    "l2 = [1,2,3]\n",
    "l3 = [6,7,8]\n",
    "print(arr5)\n",
    "print(l2 in arr5.tolist())\n",
    "print(l3 in arr5.tolist())\n",
    "\n",
    "# Explanation:-\n",
    "# If the given list is present in a NumPy array as a row then the output is True else False.\n",
    "# The list is present in a NumPy array means any row of that numpy array matches with the given \n",
    "# list with all elements in given order"
   ]
  },
  {
   "cell_type": "code",
   "execution_count": 7,
   "id": "963c4085",
   "metadata": {},
   "outputs": [
    {
     "name": "stdout",
     "output_type": "stream",
     "text": [
      "[[ 1.  2.  3.]\n",
      " [ 4. nan  5.]\n",
      " [ 6.  7. nan]\n",
      " [ 4.  5. nan]\n",
      " [ 7.  8.  9.]]\n"
     ]
    },
    {
     "data": {
      "text/plain": [
       "array([[1., 2., 3.],\n",
       "       [7., 8., 9.]])"
      ]
     },
     "execution_count": 7,
     "metadata": {},
     "output_type": "execute_result"
    }
   ],
   "source": [
    "# 5.How to remove non-numeric rows from numpy array.\n",
    "arr6 = np.array([[1,2,3],\n",
    "                [4,np.nan,5],\n",
    "                [6,7,np.nan],\n",
    "                [4,5,np.nan],\n",
    "                [7,8,9]])\n",
    "print(arr6)\n",
    "arr6[np.all(~np.isnan(arr6),axis=1)]\n",
    "\n",
    "# axis 1=Row wise, 0=Column wise in whole array\n",
    "\n",
    "# Explanation :- \n",
    "# Many times we have non-numeric values in NumPy array. These values need to be removed, so that array\n",
    "# will be free from all these unnecessary values and look more decent. \n",
    "# It is possible to remove all rows containing Nan values using the Bitwise NOT operator and np. isnan() function."
   ]
  },
  {
   "cell_type": "code",
   "execution_count": 8,
   "id": "a80cc082",
   "metadata": {},
   "outputs": [
    {
     "name": "stdout",
     "output_type": "stream",
     "text": [
      "[[1]\n",
      " [2]\n",
      " [3]]\n"
     ]
    },
    {
     "data": {
      "text/plain": [
       "array([1, 2, 3])"
      ]
     },
     "execution_count": 8,
     "metadata": {},
     "output_type": "execute_result"
    }
   ],
   "source": [
    "# 6.remove a single-dimentional entries from shape of an array.\n",
    "arr7 = np.array([[1],\n",
    "                 [2],\n",
    "                 [3]])\n",
    "arr7_new = np.squeeze(arr7)\n",
    "print(arr7)\n",
    "arr7_new\n",
    "\n",
    "# Explanation :-\n",
    "# squeeze() function is used to remove single-dimensional entries from the shape of an array. \n",
    "# It returns an array with the same data but reshaped dimensions. \n",
    "# This function can be used to reduce the dimensions of an array, \n",
    "# which is useful for data preprocessing in machine learning applications."
   ]
  },
  {
   "cell_type": "code",
   "execution_count": 9,
   "id": "8104455d",
   "metadata": {},
   "outputs": [
    {
     "data": {
      "text/plain": [
       "4"
      ]
     },
     "execution_count": 9,
     "metadata": {},
     "output_type": "execute_result"
    }
   ],
   "source": [
    "# 7.Find the number of accurences of a sequence in numpy array.\n",
    "arr8 = np.array([1,2,3,4,5,1,1,2,6,6,6,6])\n",
    "repr(arr8).count(\"6\")"
   ]
  },
  {
   "cell_type": "code",
   "execution_count": 6,
   "id": "7a077696",
   "metadata": {
    "code_folding": []
   },
   "outputs": [
    {
     "name": "stdout",
     "output_type": "stream",
     "text": [
      "[ 2  1  2  0  1  1  4  1  1  8  0  1  1  0  0  0  0  0  0  0  0  0  0  0\n",
      "  0  0  0  0  0  0  0  0  0  1  0  0  0  0  0  0  0  0  0  0 14]\n",
      "44\n"
     ]
    }
   ],
   "source": [
    "# 8.Find the most frequent value in numpy array\n",
    "arr9=np.array([1,2,2,6,4,5,6,6,6,7,8,9,9,9,0,11,12,33,44,44,44,0,9,9,9,9,9,44,44,44,44,44,44,44,44,44,44,44])\n",
    "mode=np.bincount(arr9)\n",
    "print(mode)\n",
    "mode1=np.argmax(mode)\n",
    "print(mode1)\n",
    "\n",
    "# Explanation :- \n",
    "# in above .bincount() function is used to count the occurence of each element in array\n",
    "# .argmax() mathod to get a value having a maximum value of occurence(Frequency)"
   ]
  },
  {
   "cell_type": "code",
   "execution_count": 18,
   "id": "b54db5b9-46b7-4259-b9fe-11c90e8f4f35",
   "metadata": {},
   "outputs": [
    {
     "name": "stdout",
     "output_type": "stream",
     "text": [
      "(2, 4)\n",
      "(4,)\n"
     ]
    },
    {
     "data": {
      "text/plain": [
       "array([[ 1,  2,  3,  4],\n",
       "       [ 5,  6,  7,  8],\n",
       "       [11, 12, 13, 14]])"
      ]
     },
     "execution_count": 18,
     "metadata": {},
     "output_type": "execute_result"
    }
   ],
   "source": [
    "# 9.Combining a one and two-dimensional numpy array\n",
    "arr10=np.array([[1,2,3,4],\n",
    "                [5,6,7,8]])\n",
    "arr11=np.array([11,12,13,14])\n",
    "print(arr10.shape)\n",
    "print(arr11.shape)\n",
    "\n",
    "reshaped=arr11.reshape(1,4)\n",
    "combine=np.concatenate((arr10,reshaped),axis=0)\n",
    "combine\n",
    "\n",
    "# Explanation :- \n",
    "# First thing we have to get the shape of all array and then we have to reshape by same dimensions\n",
    "# after that we can use .concatenate() function to combine two arrays."
   ]
  },
  {
   "cell_type": "code",
   "execution_count": 29,
   "id": "4a9b74df-8baf-466f-8e40-62305863e196",
   "metadata": {},
   "outputs": [
    {
     "name": "stdout",
     "output_type": "stream",
     "text": [
      "[[11 33]\n",
      " [11 44]\n",
      " [22 33]\n",
      " [22 44]]\n"
     ]
    }
   ],
   "source": [
    "# 10.How to build an array of all combinations of two Numpy arrays?\n",
    "arr12=np.array([11,22])\n",
    "arr13=np.array([33,44])\n",
    "\n",
    "arr14=np.array(np.meshgrid(arr12,arr13)).T.reshape(-1,2)\n",
    "print(arr14)"
   ]
  },
  {
   "cell_type": "code",
   "execution_count": null,
   "id": "9b950650-5588-429a-91f5-44601959f5a2",
   "metadata": {},
   "outputs": [],
   "source": []
  },
  {
   "cell_type": "code",
   "execution_count": null,
   "id": "08b8d06a",
   "metadata": {},
   "outputs": [],
   "source": []
  },
  {
   "cell_type": "markdown",
   "id": "298ac76c-fa66-4b9e-bb18-4d49eccd45da",
   "metadata": {},
   "source": [
    "Numpy\n",
    "\n",
    "Functions"
   ]
  },
  {
   "cell_type": "code",
   "execution_count": null,
   "id": "0dd912d6",
   "metadata": {},
   "outputs": [],
   "source": [
    "# NumPy is a general-purpose array-processing package.\n",
    "# It provides a high-performance multidimensional array object and tools for working with these arrays.\n"
   ]
  },
  {
   "cell_type": "code",
   "execution_count": null,
   "id": "e7b13144",
   "metadata": {},
   "outputs": [],
   "source": [
    "# numpy.partition()\n",
    "# numpy.argmax()\n",
    "# numpy.extract()\n",
    "# numpy.eye()\n",
    "# numpy.T"
   ]
  },
  {
   "cell_type": "markdown",
   "id": "8a35db7b-ede0-4ce0-b621-6c3f40cb4b26",
   "metadata": {},
   "source": [
    "1. Function = np.partition()"
   ]
  },
  {
   "cell_type": "code",
   "execution_count": 60,
   "id": "058445f6-3090-4532-a1e4-38a3d31dc326",
   "metadata": {},
   "outputs": [
    {
     "name": "stdout",
     "output_type": "stream",
     "text": [
      "[2 0 1 2 2 3 4 3 5 7 6 9 8]\n"
     ]
    }
   ],
   "source": [
    "fn1= np.array([8,1,9,2,6,7,5,3,0,2,2,4,3])\n",
    "part=np.partition(fn1,3)\n",
    "print(part)"
   ]
  },
  {
   "cell_type": "markdown",
   "id": "8c9e362c-1802-4ddb-90ff-0c325d12caba",
   "metadata": {},
   "source": [
    "numpy.partition() function is used to create a partitioned copy of input array with its elements rearranged in such a way that the value of the element in k-th position is in the position it would be in a sorted array. All elements smaller than the k-th element are moved before this element and all equal or greater are moved behind it. The ordering of the elements in the two partitions is undefined."
   ]
  },
  {
   "cell_type": "code",
   "execution_count": null,
   "id": "3cf15da7-0fff-4abe-9051-e91653d7748c",
   "metadata": {},
   "outputs": [],
   "source": []
  },
  {
   "cell_type": "markdown",
   "id": "88284cb9-2bdb-4cfd-bcee-5d4f431a0bfd",
   "metadata": {},
   "source": [
    "2. Function = np.argmax()"
   ]
  },
  {
   "cell_type": "code",
   "execution_count": 73,
   "id": "7d1cc64f-ad4f-45d3-86ce-81e39ac56335",
   "metadata": {},
   "outputs": [
    {
     "name": "stdout",
     "output_type": "stream",
     "text": [
      "1\n"
     ]
    }
   ],
   "source": [
    "fn2=np.array([1,3,4,1,1,6,6,8,2,4,3,5,6,7,7,8,1,1,1,1,1,1,1])\n",
    "arg=np.bincount(fn2)\n",
    "ans = np.argmax(arg)\n",
    "print(ans)\n"
   ]
  },
  {
   "cell_type": "markdown",
   "id": "0431863c-d452-477c-ba9e-9218b61df482",
   "metadata": {},
   "source": [
    "Explanation :- in above .bincount() function is used to count the occurence of each element in array .argmax() mathod to get a value having a maximum value of occurence(Frequency)"
   ]
  },
  {
   "cell_type": "code",
   "execution_count": null,
   "id": "b1c2bc80-a053-4994-95dc-3a27eb40361d",
   "metadata": {},
   "outputs": [],
   "source": []
  },
  {
   "cell_type": "markdown",
   "id": "3b6d1866-498f-420a-9389-5382f0b19902",
   "metadata": {},
   "source": [
    "3. Function=np.extract()"
   ]
  },
  {
   "cell_type": "code",
   "execution_count": 75,
   "id": "6aba9000-f9e0-4bca-bc79-2e36ff2d9a0e",
   "metadata": {},
   "outputs": [
    {
     "name": "stdout",
     "output_type": "stream",
     "text": [
      "odd [ 3  5  7 33 55]\n"
     ]
    }
   ],
   "source": [
    "fn3 = np.array([2,3,4,5,6,7,33,44,55,50,10])\n",
    "# condition= fn3[fn3%2==0]\n",
    "condition= np.mod(fn3,2)!=0\n",
    "ans = np.extract(condition,fn3)\n",
    "print('odd',ans)"
   ]
  },
  {
   "cell_type": "markdown",
   "id": "57c75cca-cca3-4744-9373-87038c998a57",
   "metadata": {},
   "source": [
    "extract. Return the elements of an array that satisfy some condition. This is equivalent to np."
   ]
  },
  {
   "cell_type": "code",
   "execution_count": null,
   "id": "9b2d0fcc-7172-437c-a35c-b233400912b2",
   "metadata": {},
   "outputs": [],
   "source": []
  },
  {
   "cell_type": "markdown",
   "id": "beb28f48-c0ec-4c45-8bef-c9a6420b7ba1",
   "metadata": {},
   "source": [
    "4. Function = np.eye()"
   ]
  },
  {
   "cell_type": "code",
   "execution_count": 76,
   "id": "5452cf5b-a6e1-4922-8830-39ec4a8778b2",
   "metadata": {},
   "outputs": [
    {
     "data": {
      "text/plain": [
       "array([[0., 0., 1., 0., 0., 0.],\n",
       "       [0., 0., 0., 1., 0., 0.],\n",
       "       [0., 0., 0., 0., 1., 0.],\n",
       "       [0., 0., 0., 0., 0., 1.],\n",
       "       [0., 0., 0., 0., 0., 0.],\n",
       "       [0., 0., 0., 0., 0., 0.]])"
      ]
     },
     "execution_count": 76,
     "metadata": {},
     "output_type": "execute_result"
    }
   ],
   "source": [
    "fn4= np.eye(6,k=2)\n",
    "fn4"
   ]
  },
  {
   "cell_type": "markdown",
   "id": "c8cf5100-b65b-4c41-817c-77629dc122d0",
   "metadata": {},
   "source": [
    "Return a 2-D array with ones on the diagonal and zeros elsewhere."
   ]
  },
  {
   "cell_type": "code",
   "execution_count": null,
   "id": "949a035c-5598-4bed-a828-b5dcd79806f0",
   "metadata": {},
   "outputs": [],
   "source": []
  },
  {
   "cell_type": "markdown",
   "id": "964d3036-fb42-4ba3-bbd6-7247c3375f3f",
   "metadata": {},
   "source": [
    "5. Function = np.T"
   ]
  },
  {
   "cell_type": "code",
   "execution_count": 78,
   "id": "7ceddfab-ae4e-4d5b-af05-a9a6d860ad85",
   "metadata": {},
   "outputs": [
    {
     "name": "stdout",
     "output_type": "stream",
     "text": [
      "[[ 1  5]\n",
      " [ 9  2]\n",
      " [ 6 10]\n",
      " [ 3  7]\n",
      " [11  4]\n",
      " [ 8 12]]\n",
      "[[ 1  5  9]\n",
      " [ 2  6 10]\n",
      " [ 3  7 11]\n",
      " [ 4  8 12]]\n"
     ]
    }
   ],
   "source": [
    "fn5 = np.arange(1,13,1)\n",
    "fn5=fn5.reshape(3,4)\n",
    "ans1=fn5.T.reshape(-1,2)\n",
    "ans=fn5.T\n",
    "print(ans1)\n",
    "print(ans)"
   ]
  },
  {
   "cell_type": "markdown",
   "id": "b02a6966-8867-4be2-b7e3-feae5e5cff07",
   "metadata": {},
   "source": [
    "The . T attribute returns the transpose of a NumPy array as a new NumPy array without modifying the original array."
   ]
  },
  {
   "cell_type": "code",
   "execution_count": null,
   "id": "cc52ba07-60b1-4d40-847e-0d93906118b2",
   "metadata": {},
   "outputs": [],
   "source": []
  }
 ],
 "metadata": {
  "kernelspec": {
   "display_name": "Python 3 (ipykernel)",
   "language": "python",
   "name": "python3"
  },
  "language_info": {
   "codemirror_mode": {
    "name": "ipython",
    "version": 3
   },
   "file_extension": ".py",
   "mimetype": "text/x-python",
   "name": "python",
   "nbconvert_exporter": "python",
   "pygments_lexer": "ipython3",
   "version": "3.11.2"
  },
  "toc": {
   "base_numbering": 1,
   "nav_menu": {},
   "number_sections": true,
   "sideBar": true,
   "skip_h1_title": false,
   "title_cell": "Table of Contents",
   "title_sidebar": "Contents",
   "toc_cell": false,
   "toc_position": {},
   "toc_section_display": true,
   "toc_window_display": false
  }
 },
 "nbformat": 4,
 "nbformat_minor": 5
}
